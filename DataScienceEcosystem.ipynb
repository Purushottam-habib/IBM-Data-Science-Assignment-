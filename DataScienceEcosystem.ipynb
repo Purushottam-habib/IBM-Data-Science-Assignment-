{
 "cells": [
  {
   "cell_type": "markdown",
   "id": "ecc3aa83-de7f-4d98-8f65-b5bc082b8089",
   "metadata": {},
   "source": [
    "<h1>Data Science Tools and Ecosystem</h1>"
   ]
  },
  {
   "cell_type": "markdown",
   "id": "c901032d-2d4f-4050-a6ba-6785668466b6",
   "metadata": {},
   "source": [
    "<h4>In this notebook, Data Science Tools and Ecosystem are summarized</h4>"
   ]
  },
  {
   "cell_type": "markdown",
   "id": "cc8d4c76-43b2-460c-8672-5a2d2cd9b24b",
   "metadata": {},
   "source": [
    "### Ordered List "
   ]
  },
  {
   "cell_type": "markdown",
   "id": "9983fd90-cbcb-4865-a923-bd602f61f284",
   "metadata": {},
   "source": [
    "Some of the popular languages that Data Scientists use are:\n",
    "1. Python\n",
    "2. R\n",
    "3. SQL\n",
    "4. Scala\n",
    "5. Juali"
   ]
  },
  {
   "cell_type": "markdown",
   "id": "f79ae1dc-65fe-49cc-9312-2e07ad571414",
   "metadata": {},
   "source": [
    "Some of the commonly used libraries used by Data Scientists include:\n",
    "1. Pandas\n",
    "2. Numpy\n",
    "3. Keras\n",
    "4. \n",
    "TensorFlo\n",
    "5. \n",
    "SciPyw"
   ]
  },
  {
   "cell_type": "markdown",
   "id": "cc6fd16a-d250-4aa3-ac06-a637f9adfcc8",
   "metadata": {},
   "source": [
    "Table Of Data Science Tool"
   ]
  },
  {
   "cell_type": "markdown",
   "id": "5620b750-058f-4041-b846-7754c430db18",
   "metadata": {},
   "source": [
    "|Data Science Tools|\n",
    "|---|\n",
    "|SAS|\n",
    "|Apache Hadoop|\n",
    "|Tensor Flow|e."
   ]
  },
  {
   "cell_type": "markdown",
   "id": "3ffb2a15-d9dd-42a9-9b49-2488d8078698",
   "metadata": {},
   "source": [
    "Introducing arithmetic expression examples"
   ]
  },
  {
   "cell_type": "markdown",
   "id": "84ecb78d-ae67-44eb-affa-0362a2c90702",
   "metadata": {},
   "source": [
    "<h3> Below are a few examples of evaluating arithmetic expressions in Python </h3>"
   ]
  },
  {
   "cell_type": "code",
   "execution_count": 3,
   "id": "9f3a3156-4dff-49c5-89d6-71273f941c23",
   "metadata": {},
   "outputs": [
    {
     "data": {
      "text/plain": [
       "17"
      ]
     },
     "execution_count": 3,
     "metadata": {},
     "output_type": "execute_result"
    }
   ],
   "source": [
    "# This a simple arithmetic expression to mutiply then add integers\n",
    "(3*4)+5"
   ]
  },
  {
   "cell_type": "code",
   "execution_count": 4,
   "id": "944f8830-d886-478d-83d8-42ee3e704f43",
   "metadata": {},
   "outputs": [
    {
     "data": {
      "text/plain": [
       "3.3333333333333335"
      ]
     },
     "execution_count": 4,
     "metadata": {},
     "output_type": "execute_result"
    }
   ],
   "source": [
    "#This will convert 200 minutes to hours by diving by 60\n",
    "200/60"
   ]
  },
  {
   "cell_type": "markdown",
   "id": "529823ff-23ce-4855-b853-544095d9f3a8",
   "metadata": {},
   "source": [
    "__Objective__\n",
    "* List Popular Languages For Data Science. \n",
    "* List Popular Libraries  For Data Science.\n",
    "* List of Well Known DataScienece Tool .\n",
    "* How To Provide Comment In The Cell .\n"
   ]
  },
  {
   "cell_type": "markdown",
   "id": "5e1d1c45-f679-4c08-8d3d-66fafea6c79d",
   "metadata": {},
   "source": [
    "Author's name\n",
    "<h2>Author</h2>\n",
    "Purushottam Santosh Habib."
   ]
  },
  {
   "cell_type": "code",
   "execution_count": null,
   "id": "3a73acdc-c781-44dd-a609-b889024848a5",
   "metadata": {},
   "outputs": [],
   "source": []
  }
 ],
 "metadata": {
  "kernelspec": {
   "display_name": "Python 3 (ipykernel)",
   "language": "python",
   "name": "python3"
  },
  "language_info": {
   "codemirror_mode": {
    "name": "ipython",
    "version": 3
   },
   "file_extension": ".py",
   "mimetype": "text/x-python",
   "name": "python",
   "nbconvert_exporter": "python",
   "pygments_lexer": "ipython3",
   "version": "3.12.4"
  }
 },
 "nbformat": 4,
 "nbformat_minor": 5
}
